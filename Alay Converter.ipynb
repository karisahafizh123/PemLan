{
 "cells": [
  {
   "cell_type": "code",
   "execution_count": null,
   "metadata": {},
   "outputs": [],
   "source": [
    "def sys():\n",
    "    ans = input(\"type something:\")\n",
    "    ret = \"\"\n",
    "    for i in range(len(ans)):\n",
    "        if (ans[i].lower() == \"a\"):\n",
    "            if (i%2 == 0):\n",
    "                ret = ret + \"4\"\n",
    "            else:\n",
    "                ret = ret + \"@\"\n",
    "        elif (ans[i].lower() == \"b\"):\n",
    "            ret = ret + \"13\"\n",
    "        elif (ans[i].lower() == \"e\"):\n",
    "            ret = ret + \"3\"\n",
    "        elif (ans[i].lower() == \"g\"):\n",
    "            ret = ret + \"9\"    \n",
    "        elif (ans[i].lower() == \"i\"):\n",
    "            ret = ret + \"y\"\n",
    "        elif (ans[i].lower() == \"k\"):\n",
    "            ret = ret + \"q\"\n",
    "        elif (ans[i].lower() == \"o\"):\n",
    "            ret = ret + \"0\" \n",
    "        elif (ans[i].lower() == \"r\"):\n",
    "            ret = ret + \"12\"\n",
    "        elif (ans[i].lower() == \"u\"):\n",
    "            ret = ret + \"oe\"\n",
    "        elif (ans[i].lower() == \"y\"):\n",
    "            ret = ret + \"i\"\n",
    "        elif (i % 3 == 1):\n",
    "            ret = ret + ans[i].upper()\n",
    "        else: \n",
    "            ret = ret + ans[i]\n",
    "    print(ret)\n",
    "    \n",
    "sys()"
   ]
  }
 ],
 "metadata": {
  "kernelspec": {
   "display_name": "Python 3",
   "language": "python",
   "name": "python3"
  },
  "language_info": {
   "codemirror_mode": {
    "name": "ipython",
    "version": 3
   },
   "file_extension": ".py",
   "mimetype": "text/x-python",
   "name": "python",
   "nbconvert_exporter": "python",
   "pygments_lexer": "ipython3",
   "version": "3.7.3"
  }
 },
 "nbformat": 4,
 "nbformat_minor": 2
}
