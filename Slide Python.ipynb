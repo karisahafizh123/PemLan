{
 "cells": [
  {
   "cell_type": "code",
   "execution_count": 45,
   "metadata": {},
   "outputs": [
    {
     "name": "stdout",
     "output_type": "stream",
     "text": [
      "12\n"
     ]
    }
   ],
   "source": [
    "#5\n",
    "# first\n",
    "\"\"\"\n",
    "def spam():\n",
    "eggs = 12\n",
    "return eggs\n",
    "print spam()\n",
    "\"\"\"\n",
    "# second\n",
    "def spam():\n",
    "  eggs = 12\n",
    "  return eggs\n",
    "print(spam())"
   ]
  },
  {
   "cell_type": "code",
   "execution_count": null,
   "metadata": {},
   "outputs": [],
   "source": [
    "#7\n",
    "# comment\n",
    "monty = True\n",
    "python = 1.234\n",
    "monty_python = python ** 2"
   ]
  },
  {
   "cell_type": "code",
   "execution_count": null,
   "metadata": {},
   "outputs": [],
   "source": [
    "#11\n",
    "parrot = \"Norwegian Blue\"\n",
    "print(len(parrot))\n",
    "#14\n",
    "\n",
    "# String methods: len(), lower(), upper(), str()\n",
    "\n",
    "parrot = \"Norwegian Blue\"\n",
    "print(parrot.lower()) \n",
    "print(parrot.upper())\n",
    "\n",
    "# to string\n",
    "pi=3.14\n",
    "print(str(pi))\n",
    "\n",
    "# review\n",
    "ministry = \"The Ministry of Silly Walks\"\n",
    "print(len(ministry))\n",
    "print(ministry.upper())"
   ]
  },
  {
   "cell_type": "code",
   "execution_count": 1,
   "metadata": {},
   "outputs": [
    {
     "name": "stdout",
     "output_type": "stream",
     "text": [
      "2019-09-10 10:20:32.736114\n",
      "2019\n",
      "9\n",
      "10\n",
      "2019-9-10\n",
      "10/9/2019\n",
      "10\n",
      "20\n",
      "32\n",
      "10:20:32\n",
      "10/9/2019 10:20:32\n"
     ]
    }
   ],
   "source": [
    "#13\n",
    "from datetime import datetime\n",
    "now = datetime.now()\n",
    "print(now)\n",
    "\n",
    "# member, bukan method\n",
    "print(now.year)\n",
    "print(now.month)\n",
    "print(now.day)\n",
    "\n",
    "print('%s-%s-%s' % (now.year, now.month, now.day))\n",
    "print('%s/%s/%s' % (now.day, now.month, now.year))\n",
    "\n",
    "print(now.hour)\n",
    "print(now.minute)\n",
    "print(now.second)\n",
    "\n",
    "print('%s:%s:%s' % (now.hour, now.minute, now.second))\n",
    "print('%s/%s/%s %s:%s:%s' % (now.day, now.month, now.year,now.hour, now.minute, now.second))"
   ]
  },
  {
   "cell_type": "code",
   "execution_count": 4,
   "metadata": {},
   "outputs": [
    {
     "name": "stdout",
     "output_type": "stream",
     "text": [
      "You've just entered the clinic!\n",
      "Do you take the door on the left or the right?\n",
      "Type left or right and hit 'Enter'.l\n",
      "This is the Verbal Abuse Room, you heap of parrot droppings!\n"
     ]
    }
   ],
   "source": [
    "#15\n",
    "# raw_input\n",
    "def clinic():\n",
    "    print(\"You've just entered the clinic!\")\n",
    "    print(\"Do you take the door on the left or the right?\")\n",
    "    answer = input(\"Type left or right and hit 'Enter'.\").lower()\n",
    "    if ((answer == \"left\") or (answer == \"l\")):\n",
    "        print(\"This is the Verbal Abuse Room, you heap of parrot droppings!\")\n",
    "    elif ((answer == \"right\") or (answer == \"r\")):\n",
    "        print(\"Of course this is the Argument Room, I've told you that already!\")\n",
    "    else:\n",
    "        print(\"You didn't pick left or right! Try again.\")\n",
    "        clinic()\n",
    "        \n",
    "clinic()"
   ]
  },
  {
   "cell_type": "code",
   "execution_count": 5,
   "metadata": {},
   "outputs": [],
   "source": [
    "#17\n",
    "bool_one   = False and False\n",
    "bool_two   = -(-(-(-2))) == -2 and 4 >= 16**0.5\n",
    "bool_three = 19 % 4 != 300 / 10 / 10 and False\n",
    "bool_four  = -(1**2) < 2**0 and 10 % 10 <= 20 - 10 * 2\n",
    "bool_five  = True and True\n",
    "\n",
    "# -----\n",
    "bool_one   = 2**3 == 108 % 100 or 'Cleese' == 'King Arthur'\n",
    "bool_two   = True or False\n",
    "bool_three = 100**0.5 >= 50 or False\n",
    "bool_four  = True or True\n",
    "bool_five  = 1**100 == 100**1 or 3 * 2 * 1 != 3 + 2 + 1"
   ]
  },
  {
   "cell_type": "code",
   "execution_count": 8,
   "metadata": {},
   "outputs": [
    {
     "name": "stdout",
     "output_type": "stream",
     "text": [
      "This is the Verbal Abuse Room, you heap of parrot droppings!\n",
      "Success #1\n",
      "Success #2\n"
     ]
    }
   ],
   "source": [
    "#19\n",
    "answer = \"Left\"\n",
    "if answer == \"Left\":\n",
    "    print(\"This is the Verbal Abuse Room, you heap of parrot droppings!\")\n",
    "\n",
    "# Will the above print statement print to the console?\n",
    "\n",
    "# ---\n",
    "def using_control_once():\n",
    "    if True:\n",
    "        return \"Success #1\"\n",
    "    \n",
    "def using_control_again():\n",
    "    if True:\n",
    "        return \"Success #2\"\n",
    "    \n",
    "print(using_control_once())\n",
    "print(using_control_again())"
   ]
  },
  {
   "cell_type": "code",
   "execution_count": 10,
   "metadata": {},
   "outputs": [
    {
     "name": "stdout",
     "output_type": "stream",
     "text": [
      "-1\n",
      "0\n",
      "1\n"
     ]
    }
   ],
   "source": [
    "#21\n",
    "# condition\n",
    "def greater_less_equal_5(answer):\n",
    "    if answer > 5:\n",
    "        return 1\n",
    "    elif answer < 5:          \n",
    "        return -1\n",
    "    else:\n",
    "        return 0\n",
    "    \n",
    "print(greater_less_equal_5(4))\n",
    "print(greater_less_equal_5(5))\n",
    "print(greater_less_equal_5(6))\n",
    "\n",
    "# review\n",
    "def the_flying_circus():\n",
    "    if 5 == 5:    # Start coding here!\n",
    "        # Don't forget to indent\n",
    "        # the code inside this block!\n",
    "        return True\n",
    "    elif True and True :\n",
    "        # Keep going here.\n",
    "        # You'll want to add the else statement, too!\n",
    "        return False\n",
    "    else :\n",
    "        return False"
   ]
  },
  {
   "cell_type": "code",
   "execution_count": 12,
   "metadata": {},
   "outputs": [
    {
     "name": "stdout",
     "output_type": "stream",
     "text": [
      "Enter a word:\n",
      "empty\n"
     ]
    }
   ],
   "source": [
    "#23\n",
    "pyg = 'ay'\n",
    "original = input('Enter a word:')\n",
    "if len(original) > 0 and original.isalpha():\n",
    "    word = original.lower()\n",
    "    first = word[0]\n",
    "    new_word = word + first + pyg\n",
    "    new_word = new_word[1:len(new_word)] \n",
    "    print(new_word)\n",
    "else:\n",
    "    print('empty')"
   ]
  },
  {
   "cell_type": "code",
   "execution_count": 13,
   "metadata": {},
   "outputs": [
    {
     "name": "stdout",
     "output_type": "stream",
     "text": [
      "With tax: 108.000000\n",
      "With tip: 124.200000\n"
     ]
    }
   ],
   "source": [
    "#25\n",
    "def tax(bill):\n",
    "    \"\"\"Adds 8% tax to a restaurant bill.\"\"\"\n",
    "    bill *= 1.08\n",
    "    print(\"With tax: %f\" % bill)\n",
    "    return bill\n",
    "\n",
    "def tip(bill):\n",
    "    \"\"\"Adds 15% tip to a restaurant bill.\"\"\"\n",
    "    bill *= 1.15\n",
    "    print(\"With tip: %f\" % bill)\n",
    "    return bill\n",
    "\n",
    "meal_cost = 100\n",
    "meal_with_tax = tax(meal_cost)\n",
    "meal_with_tip = tip(meal_with_tax)"
   ]
  },
  {
   "cell_type": "code",
   "execution_count": 16,
   "metadata": {},
   "outputs": [],
   "source": [
    "#27\n",
    "# Functions call functions\n",
    "def one_good_turn(n):\n",
    "    return n + 1\n",
    "\n",
    "def deserves_another(n):\n",
    "    return one_good_turn(n) + 2\n",
    "\n",
    "# ---\n",
    "\n",
    "def shout(phrase):\n",
    "    if phrase == phrase.upper():\n",
    "        return \"YOU'RE SHOUTING!\"\n",
    "    else:\n",
    "        return \"Can you speak up?\"\n",
    "    \n",
    "shout(\"I'M INTERESTED IN SHOUTING\")\n",
    "\n",
    "# ---\n",
    "def cube(number):\n",
    "    return number**3\n",
    "\n",
    "def by_three(number):\n",
    "    if number % 3 == 0:\n",
    "        return cube(number)\n",
    "    else:\n",
    "        return False"
   ]
  },
  {
   "cell_type": "code",
   "execution_count": 17,
   "metadata": {},
   "outputs": [
    {
     "name": "stdout",
     "output_type": "stream",
     "text": [
      "10\n",
      "-10\n",
      "10\n",
      "6\n"
     ]
    }
   ],
   "source": [
    "#29\n",
    "def biggest_number(*args):\n",
    "    print(max(args))\n",
    "    return(max(args))\n",
    "\n",
    "def smallest_number(*args):\n",
    "    print(min(args))\n",
    "    return(min(args))\n",
    "\n",
    "def distance_from_zero(arg):\n",
    "    print(abs(arg))\n",
    "    return(abs(arg))\n",
    "\n",
    "biggest_number(-10, -5, 5, 10)\n",
    "smallest_number(-10, -5, 5, 10)\n",
    "distance_from_zero(-10)\n",
    "# ---\n",
    "maximum = max(2.3,4.1,6)\n",
    "minimum = min(2.3,4.1,6)\n",
    "absolute = abs(-42)\n",
    "\n",
    "print(maximum)"
   ]
  },
  {
   "cell_type": "code",
   "execution_count": 26,
   "metadata": {},
   "outputs": [],
   "source": [
    "#31\n",
    "def is_numeric(num):\n",
    "    return ((type(num) == int) or (type(num) == float))\n",
    "    \n",
    "# ---\n",
    "def distance_from_zero(a):\n",
    "    if ((type(a) == int) or (type(a) == float)):\n",
    "        return abs(a)\n",
    "    else:\n",
    "        return \"Nope\""
   ]
  },
  {
   "cell_type": "code",
   "execution_count": 4,
   "metadata": {},
   "outputs": [
    {
     "name": "stdout",
     "output_type": "stream",
     "text": [
      "There are 4 items in the suitcase.\n",
      "['sunglasses', 'a', 'b', 'c']\n"
     ]
    },
    {
     "data": {
      "text/plain": [
       "\"\\nThere are 4 items in the suitcase.\\n['sunglasses', 'a', 'b', 'c']\\n\""
      ]
     },
     "execution_count": 4,
     "metadata": {},
     "output_type": "execute_result"
    }
   ],
   "source": [
    "#35\n",
    "suitcase = []\n",
    "suitcase.append(\"sunglasses\")\n",
    "\n",
    "# Your code here!\n",
    "suitcase.append('a')\n",
    "suitcase.append('b')\n",
    "suitcase.append('c')\n",
    "\n",
    "list_length = len(suitcase) # Set this to the length of suitcase\n",
    "\n",
    "print(\"There are %d items in the suitcase.\" % (list_length))\n",
    "print(suitcase)\n",
    "\n",
    "\"\"\"\n",
    "There are 4 items in the suitcase.\n",
    "['sunglasses', 'a', 'b', 'c']\n",
    "\"\"\""
   ]
  },
  {
   "cell_type": "code",
   "execution_count": 6,
   "metadata": {},
   "outputs": [
    {
     "name": "stdout",
     "output_type": "stream",
     "text": [
      "['aardvark', 'badger', 'cobra', 'duck', 'emu', 'fennec fox']\n"
     ]
    }
   ],
   "source": [
    "#37\n",
    "animals = [\"aardvark\", \"badger\", \"duck\", \"emu\", \"fennec fox\"]\n",
    "duck_index = animals.index(\"duck\")   # Use index() to find \"duck\"\n",
    "\n",
    "# Your code here!\n",
    "animals.insert(duck_index,\"cobra\")\n",
    "\n",
    "print(animals) # Observe what prints after the insert operation\n",
    "# ['aardvark', 'badger', 'cobra', 'duck', 'emu', 'fennec fox']"
   ]
  },
  {
   "cell_type": "code",
   "execution_count": 7,
   "metadata": {},
   "outputs": [
    {
     "name": "stdout",
     "output_type": "stream",
     "text": [
      "104\n",
      "105\n",
      "106\n"
     ]
    }
   ],
   "source": [
    "#39\n",
    "# dictionary key value notasi object {}\n",
    "residents = {'Puffin' : 104, 'Sloth' : 105, 'Burmese Python' : 106}\n",
    "print(residents['Puffin']) # Prints Puffin's room number\n",
    "# Your code here!\n",
    "print(residents['Sloth'])\n",
    "print(residents['Burmese Python'])"
   ]
  },
  {
   "cell_type": "code",
   "execution_count": 8,
   "metadata": {},
   "outputs": [
    {
     "name": "stdout",
     "output_type": "stream",
     "text": [
      "{'Atlantic Puffin': 'Arctic Exhibit', 'Rockhopper Penguin': 'Arctic Exhibit Mod'}\n"
     ]
    }
   ],
   "source": [
    "#41\n",
    "# key - animal_name : value - location \n",
    "zoo_animals = { 'Unicorn' : 'Cotton Candy House',\n",
    "                'Sloth' : 'Rainforest Exhibit',\n",
    "                'Bengal Tiger' : 'Jungle House',\n",
    "                'Atlantic Puffin' : 'Arctic Exhibit',\n",
    "                'Rockhopper Penguin' : 'Arctic Exhibit'}\n",
    "\n",
    "# Removing the 'Unicorn' entry. (Unicorns are incredibly expensive.)\n",
    "del zoo_animals['Unicorn']\n",
    "del zoo_animals['Sloth']\n",
    "del zoo_animals['Bengal Tiger']\n",
    "zoo_animals['Rockhopper Penguin']='Arctic Exhibit Mod'\n",
    "\n",
    "print(zoo_animals)"
   ]
  },
  {
   "cell_type": "code",
   "execution_count": 11,
   "metadata": {},
   "outputs": [
    {
     "name": "stdout",
     "output_type": "stream",
     "text": [
      "Adam\n",
      "Alex\n",
      "Mariah\n",
      "Martine\n",
      "Columbus\n",
      "A star of a popular children's cartoon show.\n",
      "The sound a goat makes.\n",
      "Goes on the floor.\n",
      "A small amount.\n"
     ]
    }
   ],
   "source": [
    "#43\n",
    "names = [\"Adam\",\"Alex\",\"Mariah\",\"Martine\",\"Columbus\"]\n",
    "for item in names: print(item)\n",
    "# ---\n",
    "# indent first element dalam dict dalam {}, spt di bhs lain\n",
    "webster = {\n",
    "     \"Aardvark\" : \"A star of a popular children's cartoon show.\",\n",
    "     \"Baa\" : \"The sound a goat makes.\",\n",
    "     \"Carpet\": \"Goes on the floor.\",\n",
    "     \"Dab\": \"A small amount.\"\n",
    "}\n",
    "for key in webster:\n",
    "    print(webster[key])"
   ]
  },
  {
   "cell_type": "code",
   "execution_count": 13,
   "metadata": {},
   "outputs": [
    {
     "name": "stdout",
     "output_type": "stream",
     "text": [
      "C\n",
      "o\n",
      "d\n",
      "e\n",
      "c\n",
      "a\n",
      "d\n",
      "e\n",
      "m\n",
      "y\n",
      "\n",
      "\n",
      "i\n",
      "i\n"
     ]
    }
   ],
   "source": [
    "#45\n",
    "for letter in \"Codecademy\": print(letter)\n",
    "# Empty lines to make the output pretty\n",
    "print()\n",
    "print()\n",
    "\n",
    "word = \"Programming is fun!\"\n",
    "\n",
    "for letter in word:\n",
    "    # Only print out the letter i\n",
    "    if letter == \"i\": print(letter)"
   ]
  },
  {
   "cell_type": "code",
   "execution_count": 15,
   "metadata": {
    "scrolled": true
   },
   "outputs": [
    {
     "name": "stdout",
     "output_type": "stream",
     "text": [
      "banana\n",
      "price: 4\n",
      "stock: 6\n",
      "apple\n",
      "price: 2\n",
      "stock: 0\n",
      "orange\n",
      "price: 1.5\n",
      "stock: 32\n",
      "pear\n",
      "price: 3\n",
      "stock: 15\n",
      "24\n",
      "0\n",
      "48.0\n",
      "45\n",
      "117.0\n"
     ]
    }
   ],
   "source": [
    "#47\n",
    "# take 2\n",
    "prices = {\n",
    "    \"banana\" : 4,   \"apple\"  : 2,\n",
    "    \"orange\" : 1.5, \"pear\"   : 3,\n",
    "}\n",
    "stock = {\n",
    "    \"banana\" : 6,   \"apple\"  : 0,\n",
    "    \"orange\" : 32,  \"pear\"   : 15,\n",
    "}\n",
    "\n",
    "for key in prices:\n",
    "    print(key)\n",
    "    print(\"price: %s\" % prices[key])\n",
    "    print(\"stock: %s\" % stock[key])\n",
    "    \n",
    "total = 0\n",
    "for key in prices:\n",
    "     print(prices[key]*stock[key])\n",
    "     total += prices[key]*stock[key]\n",
    "print(total)"
   ]
  },
  {
   "cell_type": "code",
   "execution_count": 16,
   "metadata": {},
   "outputs": [
    {
     "name": "stdout",
     "output_type": "stream",
     "text": [
      "Lloyd\n",
      "[90.0, 97.0, 75.0, 92.0]\n",
      "[88.0, 40.0, 94.0]\n",
      "[75.0, 90.0]\n",
      "Alice\n",
      "[100.0, 92.0, 98.0, 100.0]\n",
      "[82.0, 83.0, 91.0]\n",
      "[89.0, 97.0]\n",
      "Tyler\n",
      "[0.0, 87.0, 75.0, 22.0]\n",
      "[0.0, 75.0, 78.0]\n",
      "[100.0, 100.0]\n"
     ]
    }
   ],
   "source": [
    "#49\n",
    "lloyd = {\n",
    "    \"name\": \"Lloyd\",\n",
    "    \"homework\": [90.0, 97.0, 75.0, 92.0],\n",
    "    \"quizzes\": [88.0, 40.0, 94.0],\n",
    "    \"tests\": [75.0, 90.0]\n",
    "}\n",
    "alice = {\n",
    "    \"name\": \"Alice\", \"homework\": [100.0, 92.0, 98.0, 100.0],\n",
    "    \"quizzes\": [82.0, 83.0, 91.0], \"tests\": [89.0, 97.0]\n",
    "}\n",
    "tyler = {\n",
    "    \"name\": \"Tyler\", \"homework\": [0.0, 87.0, 75.0, 22.0],\n",
    "    \"quizzes\": [0.0, 75.0, 78.0], \"tests\": [100.0, 100.0]\n",
    "}\n",
    "\n",
    "students = [lloyd,alice,tyler]\n",
    "for student in students:\n",
    "    print(student['name'])\n",
    "    print(student['homework'])\n",
    "    print(student['quizzes'])\n",
    "    print(student['tests'])"
   ]
  },
  {
   "cell_type": "code",
   "execution_count": 17,
   "metadata": {},
   "outputs": [],
   "source": [
    "#51\n",
    "lloyd = { \"name\": \"Lloyd\", \"homework\": [90.0, 97.0, 75.0, 92.0],\n",
    "          \"quizzes\": [88.0, 40.0, 94.0], \"tests\": [75.0, 90.0] }\n",
    "alice = { \"name\": \"Alice\", \"homework\": [100.0, 92.0, 98.0, 100.0],\n",
    "          \"quizzes\": [82.0, 83.0, 91.0], \"tests\": [89.0, 97.0] }\n",
    "tyler = { \"name\": \"Tyler\", \"homework\": [0.0, 87.0, 75.0, 22.0],\n",
    "          \"quizzes\": [0.0, 75.0, 78.0], \"tests\": [100.0, 100.0] }\n",
    "# ---\n",
    "def average(numbers):\n",
    "    total = sum(numbers)\n",
    "    total = float(total)\n",
    "    return total/len(numbers)\n",
    "def get_average(student):\n",
    "    homework = average(student['homework'])\n",
    "    quizzes = average(student['quizzes'])\n",
    "    tests = average(student['tests'])\n",
    "    return 0.1*homework + 0.3*quizzes + 0.6*tests\n",
    "def get_letter_grade(score):\n",
    "    if score >= 90: return \"A\"\n",
    "    elif score >= 80: return \"B\"\n",
    "    elif score >= 70: return \"C\"\n",
    "    elif score >=60: return \"D\"\n",
    "    else: return \"F\"\n",
    "def get_class_average(students):\n",
    "    results = []\n",
    "    for student in students: results.append(get_average(student))\n",
    "    return average(results)"
   ]
  },
  {
   "cell_type": "code",
   "execution_count": 18,
   "metadata": {},
   "outputs": [
    {
     "name": "stdout",
     "output_type": "stream",
     "text": [
      "Hello world\n",
      "[3, 8, 7]\n",
      "[3, 5, 7, 9]\n"
     ]
    }
   ],
   "source": [
    "#55\n",
    "# 1\n",
    "n = \"Hello\"\n",
    "def string_function(s):\n",
    "    return s+' world'\n",
    "\n",
    "print(string_function(n))\n",
    "\n",
    "# 2\n",
    "def list_function(x):\n",
    "    x[1]+=3\n",
    "    return x\n",
    "\n",
    "n = [3, 5, 7]\n",
    "print(list_function(n))\n",
    "\n",
    "# 3\n",
    "n = [3, 5, 7]\n",
    "\n",
    "def list_extender(lst):\n",
    "    lst.append(9);\n",
    "    return lst\n",
    "\n",
    "print(list_extender(n))"
   ]
  },
  {
   "cell_type": "code",
   "execution_count": 35,
   "metadata": {},
   "outputs": [
    {
     "name": "stdout",
     "output_type": "stream",
     "text": [
      "[0, 2, 4]\n"
     ]
    }
   ],
   "source": [
    "#57\n",
    "range(6) # => [0,1,2,3,4,5]\n",
    "range(1,6) # => [1,2,3,4,5]\n",
    "range(1,6,3) # => [1,4]\n",
    "# range(stop)\n",
    "# range(start, stop)\n",
    "# range(start, stop, step)\n",
    "\n",
    "def my_function(x):\n",
    "    for i in range(0, len(x)):\n",
    "        x[i] = x[i] * 2\n",
    "    return x\n",
    "\n",
    "y = []\n",
    "for i in range(3):\n",
    "        y.append(i)\n",
    "\n",
    "print(my_function(y)) # [0, 1, 2]\n",
    "# [0, 2, 4]"
   ]
  },
  {
   "cell_type": "code",
   "execution_count": 36,
   "metadata": {},
   "outputs": [
    {
     "name": "stdout",
     "output_type": "stream",
     "text": [
      "[1, 2, 3, 4, 5, 6]\n",
      "[1, 2, 3, 4, 5, 6, 7, 8, 9]\n"
     ]
    }
   ],
   "source": [
    "#59\n",
    "# 3 operator + agak beda di python buat list\n",
    "m = [1, 2, 3]\n",
    "n = [4, 5, 6]\n",
    "\n",
    "def join_lists(x,y): return x + y\n",
    "\n",
    "print(join_lists(m, n))\n",
    "# [1, 2, 3, 4, 5, 6]\n",
    "\n",
    "# 4 List of Lists\n",
    "n = [[1, 2, 3], [4, 5, 6, 7, 8, 9]]\n",
    "\n",
    "def flatten(lists):\n",
    "    results=[]\n",
    "    for numbers in lists:\n",
    "        for num in numbers: results.append(num)\n",
    "    return results\n",
    "\n",
    "print(flatten(n))\n",
    "# [1, 2, 3, 4, 5, 6, 7, 8, 9]"
   ]
  },
  {
   "cell_type": "code",
   "execution_count": 38,
   "metadata": {},
   "outputs": [
    {
     "name": "stdout",
     "output_type": "stream",
     "text": [
      "Let's play Battleship!\n",
      "O O O O O\n",
      "O O O O O\n",
      "O O O O O\n",
      "O O O O O\n",
      "O O O O O\n"
     ]
    }
   ],
   "source": [
    "#61\n",
    "# .join method uses the string to combine the items in the list.\n",
    "from random import randint\n",
    "\n",
    "board = []\n",
    "for x in range(5): board.append([\"O\"] * 5)\n",
    "\n",
    "def print_board(board):\n",
    "    for row in board: print(\" \".join(row))\n",
    "\n",
    "print(\"Let's play Battleship!\")\n",
    "print_board(board)\n",
    "\n",
    "# ---\n",
    "def random_row(board): return randint(0, len(board) - 1)\n",
    "def random_col(board): return randint(0, len(board[0]) - 1)\n",
    "ship_row = random_row(board)\n",
    "ship_col = random_col(board)\n",
    "#print ship_row\n",
    "#print ship_col"
   ]
  },
  {
   "cell_type": "code",
   "execution_count": 42,
   "metadata": {},
   "outputs": [
    {
     "name": "stdout",
     "output_type": "stream",
     "text": [
      "Enjoying the course? (y/n)b\n",
      "Sorry, I didn't catch that. Enter again: b\n",
      "Sorry, I didn't catch that. Enter again: b\n",
      "Sorry, I didn't catch that. Enter again: b\n",
      "Sorry, I didn't catch that. Enter again: b\n",
      "Sorry, I didn't catch that. Enter again: n\n",
      "0\n",
      "1\n",
      "2\n",
      "3\n",
      "4\n",
      "5\n",
      "6\n",
      "7\n",
      "8\n",
      "9\n"
     ]
    }
   ],
   "source": [
    "#65\n",
    "# ---\n",
    "# 4 \n",
    "choice = input('Enjoying the course? (y/n)')\n",
    "\n",
    "while choice != 'y' and choice != 'n':  \n",
    "    choice = input(\"Sorry, I didn't catch that. Enter again: \")\n",
    "# ---\n",
    "# 5 break\n",
    "count = 0\n",
    "\n",
    "while True:\n",
    "    print(count)\n",
    "    count += 1\n",
    "    if count >= 10:\n",
    "        break\n",
    "# ---"
   ]
  },
  {
   "cell_type": "code",
   "execution_count": 47,
   "metadata": {},
   "outputs": [
    {
     "name": "stdout",
     "output_type": "stream",
     "text": [
      "Your guess: 5\n",
      "Your guess: 5\n",
      "Your guess: 5\n",
      "You lose.\n"
     ]
    }
   ],
   "source": [
    "#67\n",
    "# 7\n",
    "from random import randint\n",
    "# Generates a number from 1 through 10 inclusive\n",
    "random_number = randint(1, 10)\n",
    "guesses_left = 3\n",
    "while guesses_left > 0:\n",
    "    guess = int(input(\"Your guess: \"))\n",
    "    if (guess == random_number):\n",
    "        print('You win!')\n",
    "        break\n",
    "    guesses_left -=1\n",
    "else:\n",
    "    print('You lose.')"
   ]
  },
  {
   "cell_type": "code",
   "execution_count": 48,
   "metadata": {},
   "outputs": [
    {
     "name": "stdout",
     "output_type": "stream",
     "text": [
      "X\n",
      " \n",
      "b\n",
      "i\n",
      "r\n",
      "d\n",
      " \n",
      "i\n",
      "n\n",
      " \n",
      "t\n",
      "h\n",
      "e\n",
      " \n",
      "h\n",
      "X\n",
      "n\n",
      "d\n",
      ".\n",
      ".\n",
      ".\n",
      "a apple\n",
      "b berry\n",
      "c cherry\n"
     ]
    }
   ],
   "source": [
    "#69\n",
    "# 3\n",
    "phrase = \"A bird in the hand...\"\n",
    "for char in phrase:\n",
    "    if ((char == \"A\") or (char ==\"a\")):\n",
    "        print(\"X\")\n",
    "    else:\n",
    "        print(char)\n",
    "print\n",
    "# The , character after our print statement means that \n",
    "# our next print statement keeps printing on the same line. \n",
    "# plus 1 space\n",
    "# ---\n",
    "# 4 Looping over a dictionary\n",
    "d = {'a': 'apple', 'b': 'berry', 'c': 'cherry'}\n",
    "for key in d:\n",
    "    print(key + \" \" + d[key])"
   ]
  },
  {
   "cell_type": "code",
   "execution_count": 50,
   "metadata": {},
   "outputs": [
    {
     "name": "stdout",
     "output_type": "stream",
     "text": [
      "You have...\n",
      "A banana\n",
      "A apple\n",
      "A orange\n",
      "A tomato is not a fruit!\n"
     ]
    }
   ],
   "source": [
    "#71\n",
    "# 7 \n",
    "fruits = ['banana', 'apple', 'orange', 'tomato', 'pear', 'grape']\n",
    "print('You have...')\n",
    "for f in fruits:\n",
    "    if f == 'tomato':\n",
    "        print('A tomato is not a fruit!') # (It actually is.)\n",
    "        break\n",
    "    print('A', f)\n",
    "else:\n",
    "    print('A fine selection of fruits!')\n",
    "# spt else while, kl break tidak dirun, kl exit normal yes\n",
    "# ---"
   ]
  },
  {
   "cell_type": "code",
   "execution_count": 51,
   "metadata": {},
   "outputs": [
    {
     "name": "stdout",
     "output_type": "stream",
     "text": [
      "True\n",
      "False\n",
      "False\n"
     ]
    }
   ],
   "source": [
    "#73\n",
    "# 1\n",
    "def is_even(x):\n",
    "    if x % 2 == 0 : return True\n",
    "    else: return False\n",
    "# ---\n",
    "\n",
    "# 2        \n",
    "def is_int(x):\n",
    "    delta = x - int(x)\n",
    "    if delta == 0.0: return True\n",
    "    else: return False\n",
    "    \n",
    "print(is_int(7.0))\n",
    "print(is_int(7.9))\n",
    "print(is_int(-1.2))"
   ]
  },
  {
   "cell_type": "code",
   "execution_count": 52,
   "metadata": {},
   "outputs": [
    {
     "name": "stdout",
     "output_type": "stream",
     "text": [
      "False\n",
      "True\n",
      "fed@cba\n"
     ]
    }
   ],
   "source": [
    "#75\n",
    "# 5\n",
    "def is_prime(x):\n",
    "    if x < 2 : return False\n",
    "    for n in range(x-2):\n",
    "        if x % (n+2) == 0: return False\n",
    "    return True\n",
    "print(is_prime(9))\n",
    "print(is_prime(11))\n",
    "# ---\n",
    "# 6\n",
    "def reverse(text):\n",
    "    varlength = len(text)\n",
    "    textrev = \"\"\n",
    "    for i in range(varlength): textrev += text[varlength-1-i]\n",
    "    return textrev\n",
    "print(reverse('abc@def'))\n",
    "# You may not use reversed or [::-1] to help you with this.\n",
    "# ---"
   ]
  },
  {
   "cell_type": "code",
   "execution_count": 53,
   "metadata": {},
   "outputs": [
    {
     "name": "stdout",
     "output_type": "stream",
     "text": [
      "this **** is wack ****\n",
      "3\n"
     ]
    }
   ],
   "source": [
    "#77\n",
    "# 8\n",
    "def censor(text,word):\n",
    "    textlist = text.split()\n",
    "    textlist_new = []\n",
    "    for item in textlist:\n",
    "        if item != word:\n",
    "            textlist_new.append(item)\n",
    "        else:\n",
    "            textlist_new.append(\"*\" * len(item))\n",
    "    return \" \".join(textlist_new)\n",
    "print(censor(\"this hack is wack hack\", \"hack\"))\n",
    "# ---\n",
    "# 9\n",
    "def count(sequence,item):\n",
    "    varcount = 0\n",
    "    for i in sequence:\n",
    "        if i == item: varcount += 1\n",
    "    return varcount\n",
    "print(count([1,2,1,1], 1))"
   ]
  },
  {
   "cell_type": "code",
   "execution_count": 60,
   "metadata": {},
   "outputs": [
    {
     "name": "stdout",
     "output_type": "stream",
     "text": [
      "[1, 2]\n",
      "1\n",
      "3.5\n"
     ]
    }
   ],
   "source": [
    "#79\n",
    "# 12\n",
    "def remove_duplicates(varlist):\n",
    "    newlist = []\n",
    "    for var in varlist:\n",
    "        if var not in newlist: newlist.append(var)\n",
    "    return newlist\n",
    "print(remove_duplicates([1,1,2,2]))\n",
    "# ---\n",
    "# 13 sorted()\n",
    "# The median is the middle number in a sorted sequence of numbers. If you are given a sequence with \n",
    "# an even number of elements, you must average the two elements surrounding the middle.\n",
    "# sorted([5, 2, 3, 1, 4]) --> [1, 2, 3, 4, 5]\n",
    "def median(varlist):\n",
    "    sortedlist = sorted(varlist)\n",
    "    length = len(varlist)\n",
    "    if length % 2 == 1:\n",
    "        return sortedlist[int((length+1) / 2 - 1) ]\n",
    "    else:\n",
    "        return (sortedlist[int(length/2 - 1)] + sortedlist[int(length/2)])/2.0\n",
    "\n",
    "print(median([1,1,2]))   # 1\n",
    "print(median([7,3,1,4])) # 3.5"
   ]
  },
  {
   "cell_type": "code",
   "execution_count": 66,
   "metadata": {},
   "outputs": [
    {
     "name": "stdout",
     "output_type": "stream",
     "text": [
      "100\n",
      "100\n",
      "90\n",
      "40\n",
      "80\n",
      "100\n",
      "85\n",
      "70\n",
      "90\n",
      "65\n",
      "90\n",
      "85\n",
      "50.5\n",
      "1045.5\n",
      "80.42307692307692\n"
     ]
    }
   ],
   "source": [
    "#80\n",
    "grades = [100, 100, 90, 40, 80, 100, 85, 70, 90, 65, 90, 85, 50.5]\n",
    "def print_grades(grades):\n",
    "    for grade in grades: print(grade)\n",
    "def grades_sum(scores):\n",
    "    total = 0\n",
    "    for score in scores: total += score\n",
    "    return total\n",
    "def grades_average(grades):\n",
    "    return grades_sum(grades)/float(len(grades))\n",
    "print_grades(grades)\n",
    "print(grades_sum(grades))\n",
    "print(grades_average(grades))"
   ]
  },
  {
   "cell_type": "code",
   "execution_count": 67,
   "metadata": {
    "scrolled": true
   },
   "outputs": [
    {
     "name": "stdout",
     "output_type": "stream",
     "text": [
      "100\n",
      "100\n",
      "90\n",
      "40\n",
      "80\n",
      "100\n",
      "85\n",
      "70\n",
      "90\n",
      "65\n",
      "90\n",
      "85\n",
      "50.5\n",
      "None\n",
      "1045.5\n",
      "80.42307692307692\n",
      "334.0710059171598\n",
      "18.277609414722697\n"
     ]
    }
   ],
   "source": [
    "#81\n",
    "def grades_average(grades):\n",
    "    sum_of_grades = grades_sum(grades)\n",
    "    average = sum_of_grades / float(len(grades))\n",
    "    return average\n",
    "\n",
    "def grades_variance(scores):\n",
    "    average = grades_average(scores)\n",
    "    variance = 0\n",
    "    for score in scores:\n",
    "        variance += (average - score) ** 2\n",
    "    variance /= float(len(scores))\n",
    "    return variance\n",
    "\n",
    "def grades_std_deviation(variance): return variance ** 0.5\n",
    "\n",
    "variance = grades_variance(grades)\n",
    "\n",
    "print(print_grades(grades))\n",
    "print(grades_sum(grades))\n",
    "print(grades_average(grades))\n",
    "print(grades_variance(grades))\n",
    "print(grades_std_deviation(variance))"
   ]
  },
  {
   "cell_type": "code",
   "execution_count": 68,
   "metadata": {},
   "outputs": [
    {
     "name": "stdout",
     "output_type": "stream",
     "text": [
      "dict_items([('Name', 'Otong'), ('Age', 23), ('Title', 'Dr')])\n",
      "dict_keys(['Name', 'Age', 'Title'])\n",
      "dict_values(['Otong', 23, 'Dr'])\n",
      "Name Otong\n",
      "Age 23\n",
      "Title Dr\n"
     ]
    }
   ],
   "source": [
    "#83\n",
    "my_dict = {\n",
    "    \"Name\": \"Otong\",\n",
    "    \"Age\": 23,\n",
    "    \"Title\": \"Dr\"\n",
    "}\n",
    "print(my_dict.items())  # [('Age', 23), ('Name', 'Otong'), ('Title', 'Dr')]\n",
    "print(my_dict.keys())   # ['Age', 'Name', 'Title']\n",
    "print(my_dict.values()) # [23, 'Otong', 'Dr']\n",
    "for key in my_dict: print(key, my_dict[key])\n",
    "# Age 23\n",
    "# Name Otong\n",
    "# Title Dr\n",
    "# You should use print a, b rather than print a + \" \" + b"
   ]
  },
  {
   "cell_type": "code",
   "execution_count": 70,
   "metadata": {},
   "outputs": [
    {
     "name": "stdout",
     "output_type": "stream",
     "text": [
      "['C', 'C', 'C']\n",
      "[8, 64, 216, 512, 1000]\n",
      "[9, 25, 49, 81]\n"
     ]
    }
   ],
   "source": [
    "#85\n",
    "# 4\n",
    "c = ['C' for x in range(5) if x < 3]\n",
    "print(c) # ['C', 'C', 'C']\n",
    "\n",
    "# ---------------------------------------------------------\n",
    "# 5\n",
    "cubes_by_four = [x**3 for x in range(1,11) if (x**3)%4 == 0]\n",
    "print(cubes_by_four) # [8, 64, 216, 512, 1000]\n",
    "\n",
    "# ---------------------------------------------------------\n",
    "# 6\n",
    "l = [i ** 2 for i in range(1, 11)]  # Should be [1, 4, 9, 16, 25, 36, 49, 64, 81, 100]\n",
    "\n",
    "print(l[2:9:2]) # [9, 25, 49, 81] -- 2 belakang, 1 diloncat\n",
    "\n",
    "# list slicing\n",
    "# [start:end:stride]\n",
    "# Where start describes where the slice starts (inclusive), end is where it ends (exclusive), \n",
    "# and stride describes the space between items in the sliced list. For example, a stride of 2 \n",
    "# would select every other item from the original list to place in the sliced list.\n",
    "# start & end --> index"
   ]
  },
  {
   "cell_type": "code",
   "execution_count": 74,
   "metadata": {},
   "outputs": [
    {
     "name": "stdout",
     "output_type": "stream",
     "text": [
      "['E', 'D', 'C', 'B', 'A']\n",
      "range(100, -1, -10)\n"
     ]
    }
   ],
   "source": [
    "#87\n",
    "# 9\n",
    "letters = ['A', 'B', 'C', 'D', 'E']\n",
    "print(letters[::-1]) #['E', 'D', 'C', 'B', 'A'] right to left\n",
    "# ---------------------------------------------------------\n",
    "# 10\n",
    "my_list = range(1, 11)\n",
    "\n",
    "backwards = my_list[::-1]\n",
    "\n",
    "# ---------------------------------------------------------\n",
    "# 11\n",
    "to_one_hundred = range(101)\n",
    "\n",
    "backwards_by_tens = to_one_hundred[::-10]\n",
    "print(backwards_by_tens) #[100, 90, 80, 70, 60, 50, 40, 30, 20, 10, 0]\n",
    "\n",
    "# ---------------------------------------------------------\n",
    "# 12\n",
    "to_21 = range(1,22)\n",
    "\n",
    "odds = to_21[::2]\n",
    "middle_third = to_21[7:14]"
   ]
  },
  {
   "cell_type": "code",
   "execution_count": 76,
   "metadata": {},
   "outputs": [
    {
     "name": "stdout",
     "output_type": "stream",
     "text": [
      "<filter object at 0x000001D7EA04C6A0>\n"
     ]
    }
   ],
   "source": [
    "#88\n",
    "# ekivalen\n",
    "lambda x: x % 3 == 0\n",
    "def by_three(x): return x % 3 == 0\n",
    "# ---------------------------------------------------------\n",
    "# filter\n",
    "my_list = range(16)\n",
    "print(filter(lambda x: x % 3 == 0, my_list))\n",
    "# yg bs di bagi 3 -> [0, 3, 6, 9, 12, 15]\n",
    "# ---------------------------------------------------------"
   ]
  },
  {
   "cell_type": "code",
   "execution_count": 77,
   "metadata": {},
   "outputs": [
    {
     "name": "stdout",
     "output_type": "stream",
     "text": [
      "<filter object at 0x000001D7EA0713C8>\n",
      "<filter object at 0x000001D7EA0719E8>\n",
      "<filter object at 0x000001D7EA071D30>\n"
     ]
    }
   ],
   "source": [
    "#89\n",
    "\n",
    "languages = [\"HTML\", \"JavaScript\", \"Python\", \"Ruby\"]\n",
    "print(filter(lambda x: x==\"Python\", languages)) # ['Python']\n",
    "# ---------------------------------------------------------\n",
    "cubes = [x**3 for x in range(1, 11)]\n",
    "print(filter(lambda x: x % 3 == 0, cubes))\n",
    "# ---------------------------------------------------------\n",
    "squares = [x**2 for x in range(1,11)]\n",
    "print(filter(lambda x: x > 30 and x <=70, squares)) # [36, 49, 64]\n",
    "# ---------------------------------------------------------"
   ]
  },
  {
   "cell_type": "code",
   "execution_count": 78,
   "metadata": {},
   "outputs": [
    {
     "name": "stdout",
     "output_type": "stream",
     "text": [
      "I am the secret message!\n",
      "<filter object at 0x000001D7EA071CC0>\n",
      "<filter object at 0x000001D7EA071C50>\n"
     ]
    }
   ],
   "source": [
    "#91\n",
    "# List Slicing\n",
    "str = \"ABCDEFGHIJ\"\n",
    "# str[start:end:stride] -> start, end, stride = 1, 6, 2\n",
    "# ---------------------------------------------------------\n",
    "garbled = \"!XeXgXaXsXsXeXmX XtXeXrXcXeXsX XeXhXtX XmXaX XI\"\n",
    "rev_garbled = garbled[::-1]\n",
    "message = rev_garbled[::2]\n",
    "print(message)\n",
    "# ---------------------------------------------------------\n",
    "# Lambda\n",
    "my_list = range(16)\n",
    "print(filter(lambda x: x % 3 == 0, my_list))\n",
    "garbled = \"IXXX aXXmX aXXXnXoXXXXXtXhXeXXXXrX sXXXXeXcXXXrXeXt mXXeXsXXXsXaXXXXXXgXeX!XX\"\n",
    "message = filter(lambda x: x != 'X',garbled)\n",
    "print(message)"
   ]
  },
  {
   "cell_type": "code",
   "execution_count": 81,
   "metadata": {},
   "outputs": [
    {
     "name": "stdout",
     "output_type": "stream",
     "text": [
      "8\n",
      "0b1\n",
      "0b10\n",
      "0b11\n",
      "0b100\n",
      "0b101\n",
      "1\n",
      "2\n",
      "7\n",
      "4\n",
      "5\n",
      "201\n"
     ]
    }
   ],
   "source": [
    "#93\n",
    "one = 0b1; two = 0b10; three = 0b11; four = 0b100; five = 0b101; six = 0b110; \n",
    "seven = 0b111; eight = 0b1000; nine = 0b1001; ten = 0b1010; eleven = 0b1011; twelve = 0b1100\n",
    "print(eight)\n",
    "# ---------------------------------------------------------\n",
    "print(bin(1)) #0b1\n",
    "print(bin(2)) #0b10\n",
    "print(bin(3)) #0b11\n",
    "print(bin(4)) #0b100\n",
    "print(bin(5)) #0b101\n",
    "# ---------------------------------------------------------\n",
    "print(int(\"1\",2))     # 1\n",
    "print(int(\"10\",2))    # 2\n",
    "print(int(\"111\",2))   # 7\n",
    "print(int(\"0b100\",2)) # 4\n",
    "print(int(bin(5),2))  # 5\n",
    "# print(out the decimal equivalent of the binary 11001001.\n",
    "print(int(\"0b11001001\",2)) # 201\n",
    "# base 2 semua, pakei 0b atau gak, sama"
   ]
  },
  {
   "cell_type": "code",
   "execution_count": 82,
   "metadata": {},
   "outputs": [
    {
     "name": "stdout",
     "output_type": "stream",
     "text": [
      "0b10111111\n",
      "0b10111111\n",
      "0b10001\n"
     ]
    }
   ],
   "source": [
    "#95\n",
    "# mask\n",
    "def check_bit4(input): # input reserved?\n",
    "    mask = 0b1000\n",
    "    desired = input & mask\n",
    "    if desired > 0: return \"on\"\n",
    "    else: return \"off\"\n",
    "# ---------------------------------------------------------\n",
    "a = 0b10111011\n",
    "mask = 0b100\n",
    "print(bin(a | mask)) # 0b10111111\n",
    "print(bin(a ^ mask)) # 0b10111111\n",
    "# ---------------------------------------------------------\n",
    "a = 0b11101110\n",
    "mask = 0b11111111   #flip *semua* bit a\n",
    "print(bin(a ^ mask)) # 0b10001 \n",
    "# ---------------------------------------------------------\n",
    "def flip_bit(number,n):\n",
    "    mask = (0b1 << (n-1))\n",
    "    result = number ^ mask\n",
    "    return bin(result)\n",
    "#xor kalau mask 1 nge-flip; kalo mask 0 tetap"
   ]
  },
  {
   "cell_type": "code",
   "execution_count": 85,
   "metadata": {},
   "outputs": [
    {
     "name": "stdout",
     "output_type": "stream",
     "text": [
      "I'm a yellow lemon and I taste sour.\n",
      "Yep! I'm edible.\n"
     ]
    }
   ],
   "source": [
    "#97\n",
    "class Fruit(object):\n",
    "    \"\"\"A class that makes various tasty fruits.\"\"\"\n",
    "    def __init__(self, name, color, flavor, poisonous):\n",
    "        self.name = name\n",
    "        self.color = color\n",
    "        self.flavor = flavor\n",
    "        self.poisonous = poisonous\n",
    "    def description(self):\n",
    "        print(\"I'm a %s %s and I taste %s.\" % (self.color, self.name, self.flavor))\n",
    "    def is_edible(self):\n",
    "        if not self.poisonous: print(\"Yep! I'm edible.\")\n",
    "        else: print(\"Don't eat me! I am super poisonous.\")\n",
    "# ---------------------------------------------------------\n",
    "lemon = Fruit(\"lemon\", \"yellow\", \"sour\", False)\n",
    "lemon.description()\n",
    "lemon.is_edible()"
   ]
  },
  {
   "cell_type": "code",
   "execution_count": 86,
   "metadata": {},
   "outputs": [
    {
     "name": "stdout",
     "output_type": "stream",
     "text": [
      "Jeffrey 2 True\n",
      "Bruce 1 False\n",
      "Chad 7 True\n"
     ]
    }
   ],
   "source": [
    "#99\n",
    "class Animal(object):\n",
    "    \"\"\"Makes cute animals.\"\"\"\n",
    "    def __init__(self, name, age, is_hungry):\n",
    "        self.name = name\n",
    "        self.age = age\n",
    "        self.is_hungry = is_hungry\n",
    "# Note that self is only used in the __init__() function *definition*; \n",
    "# we don't need to pass it to our instance objects.\n",
    "zebra = Animal(\"Jeffrey\", 2, True)\n",
    "giraffe = Animal(\"Bruce\", 1, False)\n",
    "panda = Animal(\"Chad\", 7, True)\n",
    "print(zebra.name, zebra.age, zebra.is_hungry)        # Jeffrey 2 True\n",
    "print(giraffe.name, giraffe.age, giraffe.is_hungry)  # Bruce 1 False\n",
    "print(panda.name, panda.age, panda.is_hungry)        # Chad 7 True"
   ]
  },
  {
   "cell_type": "code",
   "execution_count": 87,
   "metadata": {},
   "outputs": [
    {
     "name": "stdout",
     "output_type": "stream",
     "text": [
      "Jeffrey 2 True\n",
      "Bruce 1 True\n",
      "Chad 7 True\n"
     ]
    }
   ],
   "source": [
    "#101\n",
    "class Animal(object):\n",
    "    \"\"\"Makes cute animals.\"\"\"\n",
    "    is_alive = True\n",
    "    def __init__(self, name, age):\n",
    "        self.name = name\n",
    "        self.age = age\n",
    "        \n",
    "zebra = Animal(\"Jeffrey\", 2)\n",
    "giraffe = Animal(\"Bruce\", 1)\n",
    "panda = Animal(\"Chad\", 7)\n",
    "\n",
    "print(zebra.name, zebra.age, zebra.is_alive)        #Jeffrey 2 True\n",
    "print(giraffe.name, giraffe.age, giraffe.is_alive)  #Bruce 1 True\n",
    "print(panda.name, panda.age, panda.is_alive)        #Chad 7 True\n",
    "#is_alive member variable; name,age instance variables"
   ]
  },
  {
   "cell_type": "code",
   "execution_count": 89,
   "metadata": {},
   "outputs": [
    {
     "name": "stdout",
     "output_type": "stream",
     "text": [
      "Nil\n",
      "5\n",
      "good\n",
      "good\n",
      "good\n"
     ]
    }
   ],
   "source": [
    "#103\n",
    "class Animal(object):\n",
    "    is_alive = True\n",
    "    health = \"good\"\n",
    "    def __init__(self, name, age):\n",
    "        self.name = name\n",
    "        self.age = age\n",
    "    def description(self):\n",
    "        print(self.name)\n",
    "        print(self.age)\n",
    "hippo = Animal(\"Nil\",5)\n",
    "hippo.description()\n",
    "sloth = Animal(\"slothName\", 6)\n",
    "ocelot = Animal(\"ocelotName\",7)\n",
    "print(hippo.health)  # good\n",
    "print(sloth.health)  # good\n",
    "print(ocelot.health) # good\n",
    "#member variable = class variable (bukan instance, available to all inst)"
   ]
  },
  {
   "cell_type": "code",
   "execution_count": 92,
   "metadata": {},
   "outputs": [],
   "source": [
    "#104\n",
    "class ShoppingCart(object):\n",
    "    \"\"\"Creates shopping cart objects\n",
    "    for users of our fine website.\"\"\"\n",
    "    items_in_cart = {}\n",
    "    def __init__(self, customer_name):\n",
    "        self.customer_name = customer_name\n",
    "    def add_item(self, product, price):\n",
    "        \"\"\"Add product to the cart.\"\"\"\n",
    "        if not product in self.items_in_cart:\n",
    "            self.items_in_cart[product] = price\n",
    "            print(product + \" added.\")\n",
    "        else:\n",
    "            print(product + \" is already in the cart.\")\n",
    "    def remove_item(self, product):\n",
    "        \"\"\"Remove product from the cart.\"\"\"\n",
    "        if product in self.items_in_cart:\n",
    "            del self.items_in_cart[product]\n",
    "            print(product + \" removed.\")\n",
    "        else:\n",
    "            print(product + \" is not in the cart.\")"
   ]
  },
  {
   "cell_type": "code",
   "execution_count": 93,
   "metadata": {},
   "outputs": [
    {
     "name": "stdout",
     "output_type": "stream",
     "text": [
      "Obeng added.\n",
      "Obeng is already in the cart.\n",
      "{'Obeng': 2000}\n",
      "Sapu added.\n",
      "Sapu is already in the cart.\n",
      "{'Obeng': 2000, 'Sapu': 2000}\n",
      "Sapu is already in the cart.\n",
      "{'Obeng': 2000, 'Sapu': 2000}\n",
      "{'Buku': 3000}\n",
      "{'Obeng': 2000, 'Sapu': 2000}\n",
      "Sapu added.\n",
      "{'Buku': 3000, 'Sapu': 1000}\n",
      "Dodol added.\n",
      "{'Obeng': 2000, 'Sapu': 2000, 'Dodol': 10000}\n",
      "{'Buku': 3000, 'Sapu': 1000}\n"
     ]
    }
   ],
   "source": [
    "#105\n",
    "my_cart1 = ShoppingCart(\"Otong\")\n",
    "my_cart2 = ShoppingCart(\"Udjang\")\n",
    "\n",
    "my_cart1.add_item(\"Obeng\",2000)  # Obeng added.\n",
    "my_cart1.add_item(\"Obeng\",1000)  # Obeng is already in the cart.\n",
    "print(my_cart1.items_in_cart)    # {'Obeng': 2000} \n",
    "\n",
    "my_cart2.add_item(\"Sapu\",2000)  # Sapu added.\n",
    "my_cart2.add_item(\"Sapu\",1000)  # Sapu is already in the cart.\n",
    "print(my_cart2.items_in_cart)    # {'Obeng': 2000, 'Sapu': 2000} \n",
    "\n",
    "my_cart1.add_item(\"Sapu\",5000)  # Sapu is already in the cart.\n",
    "print(my_cart1.items_in_cart)    # {'Obeng': 2000, 'Sapu': 2000}\n",
    "\n",
    "my_cart2.items_in_cart = {'Buku': 3000}\n",
    "print(my_cart2.items_in_cart)    # {'Buku': 3000}\n",
    "print(my_cart1.items_in_cart)    # {'Obeng': 2000, 'Sapu': 2000}\n",
    "\n",
    "my_cart2.add_item(\"Sapu\",1000)  # Sapu added.\n",
    "print(my_cart2.items_in_cart)    # {'Sapu': 1000, 'Buku': 3000}\n",
    "\n",
    "my_cart1.add_item(\"Dodol\",10000) # Dodol added.\n",
    "print(my_cart1.items_in_cart)     # {'Obeng': 2000, 'Sapu': 2000, 'Dodol': 10000}\n",
    "print(my_cart2.items_in_cart)     # {'Sapu': 1000, 'Buku': 3000}"
   ]
  },
  {
   "cell_type": "code",
   "execution_count": 94,
   "metadata": {},
   "outputs": [
    {
     "name": "stdout",
     "output_type": "stream",
     "text": [
      "I'm a string that stands in for the contents of your shopping cart!\n",
      "I'm a string that stands in for your order history!\n"
     ]
    }
   ],
   "source": [
    "#107\n",
    "class Customer(object):\n",
    "    \"\"\"Produces objects that represent customers.\"\"\"\n",
    "    def __init__(self, customer_id):\n",
    "        self.customer_id = customer_id\n",
    "    def display_cart(self):\n",
    "        print(\"I'm a string that stands in for the contents of your shopping cart!\")\n",
    "class ReturningCustomer(Customer):\n",
    "    \"\"\"For customers of the repeat variety.\"\"\"\n",
    "    def display_order_history(self):\n",
    "        print(\"I'm a string that stands in for your order history!\")\n",
    "monty_python = ReturningCustomer(\"ID: 12345\")\n",
    "monty_python.display_cart()           # Customer.display_cart\n",
    "monty_python.display_order_history()  # ReturningCustomer"
   ]
  },
  {
   "cell_type": "code",
   "execution_count": 95,
   "metadata": {},
   "outputs": [
    {
     "name": "stdout",
     "output_type": "stream",
     "text": [
      "Hello, Emily\n",
      "Get back to work, Steve!\n"
     ]
    }
   ],
   "source": [
    "#109\n",
    "class Employee(object):\n",
    "    def __init__(self, name):\n",
    "        self.name = name\n",
    "    def greet(self, other):\n",
    "        print(\"Hello, %s\" % other.name)\n",
    "class CEO(Employee):\n",
    "    def greet(self, other):\n",
    "        print(\"Get back to work, %s!\" % other.name)\n",
    "ceo = CEO(\"Emily\")\n",
    "emp = Employee(\"Steve\")\n",
    "emp.greet(ceo) # Hello, Emily\n",
    "ceo.greet(emp) # Get back to work, Steve!"
   ]
  },
  {
   "cell_type": "code",
   "execution_count": 100,
   "metadata": {},
   "outputs": [
    {
     "name": "stdout",
     "output_type": "stream",
     "text": [
      "200.0\n"
     ]
    }
   ],
   "source": [
    "#111\n",
    "class Employee(object):\n",
    "    \"\"\"Models real-life employees!\"\"\"\n",
    "    def __init__(self, employee_name):\n",
    "        self.employee_name = employee_name\n",
    "    def calculate_wage(self, hours):\n",
    "        self.hours = hours\n",
    "        return hours * 20.00\n",
    "class PartTimeEmployee(Employee):\n",
    "    def calculate_wage(self,hours):\n",
    "        self.hours = hours\n",
    "        return hours * 12.00\n",
    "    def full_time_wage(self,hours):\n",
    "        return super(PartTimeEmployee,self).calculate_wage(hours)\n",
    "milton = PartTimeEmployee(\"Milton\")\n",
    "print(milton.full_time_wage(10))"
   ]
  },
  {
   "cell_type": "code",
   "execution_count": 101,
   "metadata": {},
   "outputs": [
    {
     "name": "stdout",
     "output_type": "stream",
     "text": [
      "3\n",
      "True\n"
     ]
    }
   ],
   "source": [
    "#112\n",
    "class Triangle(object):\n",
    "    number_of_sides = 3\n",
    "    def __init__(self, angle1, angle2, angle3):\n",
    "        self.angle1 = angle1\n",
    "        self.angle2 = angle2\n",
    "        self.angle3 = angle3\n",
    "    def check_angles(self):\n",
    "        sum_angle = self.angle1 + self.angle2 + self.angle3\n",
    "        if sum_angle == 180: return True\n",
    "        else: return False\n",
    "class Equilateral(Triangle):\n",
    "    angle = 60\n",
    "    def __init__(self):\n",
    "        self.angle1 = self.angle\n",
    "        self.angle2 = self.angle\n",
    "        self.angle3 = self.angle\n",
    "my_triangle = Triangle(90,30,60)\n",
    "print(my_triangle.number_of_sides) # 3 inherited\n",
    "print(my_triangle.check_angles())  # True"
   ]
  },
  {
   "cell_type": "code",
   "execution_count": 108,
   "metadata": {},
   "outputs": [
    {
     "name": "stdout",
     "output_type": "stream",
     "text": [
      "new\n",
      "like new\n",
      "new\n",
      "DeLorean\n",
      "This is a silver DeLorean with 88 MPG.\n",
      "used\n"
     ]
    }
   ],
   "source": [
    "#113\n",
    "class Car(object):\n",
    "    condition = \"new\"\n",
    "    def __init__(self, model, color, mpg):\n",
    "        self.model = model; self.color = color; self.mpg = mpg\n",
    "    def display_car(self):\n",
    "        return \"This is a %s %s with %s MPG.\" % (self.color, self.model, self.mpg)\n",
    "    def drive_car(self): self.condition = \"used\"\n",
    "\n",
    "class ElectricCar(Car):\n",
    "    def __init__(self,model,color,mpg,battery_type):\n",
    "        super(ElectricCar,self).__init__(model,color,mpg)\n",
    "        self.battery_type = battery_type\n",
    "    def drive_car(self): self.condition=\"like new\"\n",
    "        \n",
    "my_car = ElectricCar(\"DeLorean\", \"silver\", 88, \"molten salt\")\n",
    "\n",
    "print(my_car.condition) # new \n",
    "my_car.drive_car()     # \n",
    "print(my_car.condition) # like new\n",
    "\n",
    "my_car1 = Car(\"DeLorean\", \"silver\", 88)\n",
    "print(my_car1.condition)      # new\n",
    "print(my_car1.model)          # DeLorean    \n",
    "print(my_car1.display_car())  # This is a silver DeLorean with 88 MPG.\n",
    "\n",
    "my_car1.drive_car()\n",
    "print(my_car1.condition)      # used"
   ]
  },
  {
   "cell_type": "code",
   "execution_count": 109,
   "metadata": {},
   "outputs": [
    {
     "ename": "FileNotFoundError",
     "evalue": "[Errno 2] No such file or directory: 'output.txt'",
     "output_type": "error",
     "traceback": [
      "\u001b[1;31m---------------------------------------------------------------------------\u001b[0m",
      "\u001b[1;31mFileNotFoundError\u001b[0m                         Traceback (most recent call last)",
      "\u001b[1;32m<ipython-input-109-d30e500d914a>\u001b[0m in \u001b[0;36m<module>\u001b[1;34m\u001b[0m\n\u001b[0;32m      2\u001b[0m \u001b[0mmy_list\u001b[0m \u001b[1;33m=\u001b[0m \u001b[1;33m[\u001b[0m\u001b[0mi\u001b[0m\u001b[1;33m**\u001b[0m\u001b[1;36m2\u001b[0m \u001b[1;32mfor\u001b[0m \u001b[0mi\u001b[0m \u001b[1;32min\u001b[0m \u001b[0mrange\u001b[0m\u001b[1;33m(\u001b[0m\u001b[1;36m1\u001b[0m\u001b[1;33m,\u001b[0m\u001b[1;36m11\u001b[0m\u001b[1;33m)\u001b[0m\u001b[1;33m]\u001b[0m\u001b[1;33m\u001b[0m\u001b[1;33m\u001b[0m\u001b[0m\n\u001b[0;32m      3\u001b[0m \u001b[1;33m\u001b[0m\u001b[0m\n\u001b[1;32m----> 4\u001b[1;33m \u001b[0mmy_file\u001b[0m \u001b[1;33m=\u001b[0m \u001b[0mopen\u001b[0m\u001b[1;33m(\u001b[0m\u001b[1;34m\"output.txt\"\u001b[0m\u001b[1;33m,\u001b[0m \u001b[1;34m\"r+\"\u001b[0m\u001b[1;33m)\u001b[0m\u001b[1;33m\u001b[0m\u001b[1;33m\u001b[0m\u001b[0m\n\u001b[0m\u001b[0;32m      5\u001b[0m \u001b[1;33m\u001b[0m\u001b[0m\n\u001b[0;32m      6\u001b[0m \u001b[1;32mfor\u001b[0m \u001b[0mi\u001b[0m \u001b[1;32min\u001b[0m \u001b[0mmy_list\u001b[0m\u001b[1;33m:\u001b[0m \u001b[0mmy_file\u001b[0m\u001b[1;33m.\u001b[0m\u001b[0mwrite\u001b[0m\u001b[1;33m(\u001b[0m\u001b[0mstr\u001b[0m\u001b[1;33m(\u001b[0m\u001b[0mi\u001b[0m\u001b[1;33m)\u001b[0m \u001b[1;33m+\u001b[0m \u001b[1;34m\"\\n\"\u001b[0m\u001b[1;33m)\u001b[0m\u001b[1;33m\u001b[0m\u001b[1;33m\u001b[0m\u001b[0m\n",
      "\u001b[1;31mFileNotFoundError\u001b[0m: [Errno 2] No such file or directory: 'output.txt'"
     ]
    }
   ],
   "source": [
    "#117\n",
    "my_list = [i**2 for i in range(1,11)]\n",
    "\n",
    "my_file = open(\"output.txt\", \"r+\")\n",
    "\n",
    "for i in my_list: my_file.write(str(i) + \"\\n\")\n",
    "    \n",
    "my_file.close()\n",
    "\n",
    "# \"r+\" as a second argument to the function so the \n",
    "# file will allow you to read and write"
   ]
  },
  {
   "cell_type": "code",
   "execution_count": 111,
   "metadata": {},
   "outputs": [
    {
     "ename": "FileNotFoundError",
     "evalue": "[Errno 2] No such file or directory: 'text.txt'",
     "output_type": "error",
     "traceback": [
      "\u001b[1;31m---------------------------------------------------------------------------\u001b[0m",
      "\u001b[1;31mFileNotFoundError\u001b[0m                         Traceback (most recent call last)",
      "\u001b[1;32m<ipython-input-111-bfd9c0143461>\u001b[0m in \u001b[0;36m<module>\u001b[1;34m\u001b[0m\n\u001b[0;32m      1\u001b[0m \u001b[1;31m#119\u001b[0m\u001b[1;33m\u001b[0m\u001b[1;33m\u001b[0m\u001b[1;33m\u001b[0m\u001b[0m\n\u001b[0;32m      2\u001b[0m \u001b[1;31m# Open the file for reading\u001b[0m\u001b[1;33m\u001b[0m\u001b[1;33m\u001b[0m\u001b[1;33m\u001b[0m\u001b[0m\n\u001b[1;32m----> 3\u001b[1;33m \u001b[0mread_file\u001b[0m \u001b[1;33m=\u001b[0m \u001b[0mopen\u001b[0m\u001b[1;33m(\u001b[0m\u001b[1;34m\"text.txt\"\u001b[0m\u001b[1;33m,\u001b[0m \u001b[1;34m\"r\"\u001b[0m\u001b[1;33m)\u001b[0m\u001b[1;33m\u001b[0m\u001b[1;33m\u001b[0m\u001b[0m\n\u001b[0m\u001b[0;32m      4\u001b[0m \u001b[1;33m\u001b[0m\u001b[0m\n\u001b[0;32m      5\u001b[0m \u001b[1;31m# Use a second file handler to open the file for writing\u001b[0m\u001b[1;33m\u001b[0m\u001b[1;33m\u001b[0m\u001b[1;33m\u001b[0m\u001b[0m\n",
      "\u001b[1;31mFileNotFoundError\u001b[0m: [Errno 2] No such file or directory: 'text.txt'"
     ]
    }
   ],
   "source": [
    "#119\n",
    "# Open the file for reading\n",
    "read_file = open(\"text.txt\", \"r\")\n",
    "\n",
    "# Use a second file handler to open the file for writing\n",
    "write_file = open(\"text.txt\", \"w\")\n",
    "\n",
    "# Write to the file\n",
    "write_file.write(\"Not closing files is VERY BAD.\")\n",
    "write_file.close()\n",
    "\n",
    "# Try to read from the file\n",
    "print(read_file.read())\n",
    "read_file.close()"
   ]
  },
  {
   "cell_type": "code",
   "execution_count": null,
   "metadata": {},
   "outputs": [],
   "source": []
  }
 ],
 "metadata": {
  "kernelspec": {
   "display_name": "Python 3",
   "language": "python",
   "name": "python3"
  },
  "language_info": {
   "codemirror_mode": {
    "name": "ipython",
    "version": 3
   },
   "file_extension": ".py",
   "mimetype": "text/x-python",
   "name": "python",
   "nbconvert_exporter": "python",
   "pygments_lexer": "ipython3",
   "version": "3.7.3"
  }
 },
 "nbformat": 4,
 "nbformat_minor": 2
}
